{
  "nbformat": 4,
  "nbformat_minor": 0,
  "metadata": {
    "colab": {
      "provenance": [],
      "authorship_tag": "ABX9TyPvBGEHZaRxu0J8TEViumoO",
      "include_colab_link": true
    },
    "kernelspec": {
      "name": "python3",
      "display_name": "Python 3"
    },
    "language_info": {
      "name": "python"
    }
  },
  "cells": [
    {
      "cell_type": "markdown",
      "metadata": {
        "id": "view-in-github",
        "colab_type": "text"
      },
      "source": [
        "<a href=\"https://colab.research.google.com/github/Nish0303/DECODING/blob/main/pesu_io_Decoding_tomorrow.ipynb\" target=\"_parent\"><img src=\"https://colab.research.google.com/assets/colab-badge.svg\" alt=\"Open In Colab\"/></a>"
      ]
    },
    {
      "cell_type": "code",
      "execution_count": 14,
      "metadata": {
        "colab": {
          "base_uri": "https://localhost:8080/"
        },
        "id": "1enr8df8b31A",
        "outputId": "1c9045ce-a99c-4cad-93ee-30f7cf26230b"
      },
      "outputs": [
        {
          "output_type": "stream",
          "name": "stdout",
          "text": [
            "hello world\n"
          ]
        }
      ],
      "source": [
        "print(\"hello world\")\n"
      ]
    },
    {
      "cell_type": "code",
      "source": [
        "name= input(\"enter your name: \")\n",
        "age= input (\"enter your age: \")\n",
        "print(\"hi my name is \"+name+\", and my age is \"+age+\"\")"
      ],
      "metadata": {
        "colab": {
          "base_uri": "https://localhost:8080/"
        },
        "id": "cCgTJmD1OQdX",
        "outputId": "48693524-3a9d-469f-cd4b-a572cec7f86f"
      },
      "execution_count": 15,
      "outputs": [
        {
          "output_type": "stream",
          "name": "stdout",
          "text": [
            "enter your name: nishant v trivedi\n",
            "enter your age: 18\n",
            "hi my name is nishant v trivedi, and my age is 18\n"
          ]
        }
      ]
    },
    {
      "cell_type": "code",
      "source": [
        "n1= int(input(\"enter number 1: \"))\n",
        "n2= int(input(\"enter number 2: \"))\n",
        "x = n1+n2\n",
        "print(x)\n"
      ],
      "metadata": {
        "colab": {
          "base_uri": "https://localhost:8080/"
        },
        "id": "BnpNPbXQeNsl",
        "outputId": "e90dab86-dfe9-4f03-bd0e-b64cbecacb2e"
      },
      "execution_count": 16,
      "outputs": [
        {
          "output_type": "stream",
          "name": "stdout",
          "text": [
            "enter number 1: 15\n",
            "enter number 2: 19\n",
            "34\n"
          ]
        }
      ]
    },
    {
      "cell_type": "code",
      "source": [
        "n=int(input(\"enter your number\"))\n",
        "if n%2==0:\n",
        "  print(\"n is even\")\n",
        "else:\n",
        "  print(\"n is odd\")\n",
        "\n"
      ],
      "metadata": {
        "colab": {
          "base_uri": "https://localhost:8080/"
        },
        "id": "JdOfqsnNecsF",
        "outputId": "6e1493a3-b1c1-4558-d320-033cb9f104ad"
      },
      "execution_count": 17,
      "outputs": [
        {
          "output_type": "stream",
          "name": "stdout",
          "text": [
            "enter your number23\n",
            "n is odd\n"
          ]
        }
      ]
    },
    {
      "cell_type": "code",
      "source": [
        "text=input(\"enter the input: \")\n",
        "vowels=['a','e','i','o','u']\n",
        "for i in text:\n",
        "  if i in vowels:\n",
        "    print (i)\n"
      ],
      "metadata": {
        "colab": {
          "base_uri": "https://localhost:8080/"
        },
        "id": "EIAL9XQlex5o",
        "outputId": "1f9ce69b-e433-46ce-abb6-cf351ce144ae"
      },
      "execution_count": null,
      "outputs": [
        {
          "output_type": "stream",
          "name": "stdout",
          "text": [
            "enter the input: vvlburtvsl\n",
            "u\n"
          ]
        }
      ]
    },
    {
      "cell_type": "code",
      "source": [
        "l=[1,2,3,3,3,3,5,7,7]\n",
        "d={}\n",
        "for i in l:\n",
        "  if i in d:\n",
        "    d[i]+=1\n",
        "  else:\n",
        "    d[i]=1\n",
        "print(d)\n"
      ],
      "metadata": {
        "colab": {
          "base_uri": "https://localhost:8080/"
        },
        "id": "vZVJXmOiiQtd",
        "outputId": "8eaed8a7-c880-4c5a-c875-bb00f0619ff8"
      },
      "execution_count": null,
      "outputs": [
        {
          "output_type": "stream",
          "name": "stdout",
          "text": [
            "{1: 1, 2: 1, 3: 4, 5: 1, 7: 2}\n"
          ]
        }
      ]
    },
    {
      "cell_type": "code",
      "source": [
        "str=\"betty bought some butter but the butter was bitter , so betty bought better butter\"\n",
        "list=str.split(\" \")\n",
        "list=set(list)\n",
        "print(list)\n"
      ],
      "metadata": {
        "colab": {
          "base_uri": "https://localhost:8080/"
        },
        "id": "CD1B5XOKlpNb",
        "outputId": "92a8a68d-c441-4a03-e7ae-5a6d9b221067"
      },
      "execution_count": null,
      "outputs": [
        {
          "output_type": "stream",
          "name": "stdout",
          "text": [
            "{'the', 'butter', 'bitter', 'but', 'better', 'was', 'so', ',', 'betty', 'bought', 'some'}\n"
          ]
        }
      ]
    },
    {
      "cell_type": "code",
      "source": [
        "x=input(\"type n1: \")\n",
        "y=input(\"type n2: \")\n",
        "sum= int(x)+int(y)\n",
        "print(\"the sum is: \", sum)"
      ],
      "metadata": {
        "colab": {
          "base_uri": "https://localhost:8080/"
        },
        "id": "BPj6WEKmExHt",
        "outputId": "27655517-2e6a-4b42-d5a6-6fff5351d42d"
      },
      "execution_count": null,
      "outputs": [
        {
          "output_type": "stream",
          "name": "stdout",
          "text": [
            "type n1: 2\n",
            "type n2: 3\n",
            "the sum is:  5\n"
          ]
        }
      ]
    },
    {
      "cell_type": "code",
      "source": [
        "x=57698\n",
        "y=85769\n",
        "print(x+y)"
      ],
      "metadata": {
        "colab": {
          "base_uri": "https://localhost:8080/"
        },
        "id": "OXfkbiN-Kch0",
        "outputId": "962d50ba-5fed-43d0-b031-e27f0df5b4e9"
      },
      "execution_count": null,
      "outputs": [
        {
          "output_type": "stream",
          "name": "stdout",
          "text": [
            "143467\n"
          ]
        }
      ]
    },
    {
      "cell_type": "code",
      "source": [
        "for x in \"banana\":\n",
        "  print(x)"
      ],
      "metadata": {
        "colab": {
          "base_uri": "https://localhost:8080/"
        },
        "id": "5Y7JLbgfNCwX",
        "outputId": "54377b25-0477-480e-ca5b-aa0171c21d18"
      },
      "execution_count": null,
      "outputs": [
        {
          "output_type": "stream",
          "name": "stdout",
          "text": [
            "b\n",
            "a\n",
            "n\n",
            "a\n",
            "n\n",
            "a\n"
          ]
        }
      ]
    },
    {
      "cell_type": "code",
      "source": [
        "fruits = [\"apple\", \"banana\", \"cherry\"]\n",
        "for x in fruits:\n",
        "\n",
        "  if x==\"banana\":\n",
        "    break\n",
        "  print(x)\n"
      ],
      "metadata": {
        "colab": {
          "base_uri": "https://localhost:8080/"
        },
        "id": "xt3w-T8ONzK7",
        "outputId": "63de069d-5b42-48da-be68-aecb8df90918"
      },
      "execution_count": null,
      "outputs": [
        {
          "output_type": "stream",
          "name": "stdout",
          "text": [
            "apple\n"
          ]
        }
      ]
    },
    {
      "cell_type": "code",
      "source": [
        "fruits = [\"apple\", \"banana\", \"cherry\"]\n",
        "for x in fruits:\n",
        "  if x == \"banana\":\n",
        "    continue\n",
        "  print(x)\n"
      ],
      "metadata": {
        "colab": {
          "base_uri": "https://localhost:8080/"
        },
        "id": "nWiCKNJ2N8YZ",
        "outputId": "054ace7c-c5b2-4594-9103-15535621d4f8"
      },
      "execution_count": null,
      "outputs": [
        {
          "output_type": "stream",
          "name": "stdout",
          "text": [
            "apple\n",
            "cherry\n"
          ]
        }
      ]
    },
    {
      "cell_type": "code",
      "source": [
        "name= input(\"enter your name: \")\n",
        "age= input (\"enter your age: \")\n",
        "print(\"hi my name is \"+name+\", and my age is \"+age+\"\")"
      ],
      "metadata": {
        "colab": {
          "base_uri": "https://localhost:8080/"
        },
        "id": "aHOWZ6_XJ-Ih",
        "outputId": "defac7ac-6589-4294-fb9a-a8f248429756"
      },
      "execution_count": null,
      "outputs": [
        {
          "output_type": "stream",
          "name": "stdout",
          "text": [
            "enter your name: nishant\n",
            "enter your age: 18\n",
            "hi my name is nishant, and my age is 18\n"
          ]
        }
      ]
    },
    {
      "cell_type": "code",
      "source": [
        "n1= (input(\"enter name of person 1: \"))\n",
        "a1= int(input(\" enter the age of person 1: \"))\n",
        "n2= (input(\"enter name of person 2: \"))\n",
        "a2= int(input(\" enter the age of person 2: \"))\n",
        "total = a1+a2\n",
        "print(total)"
      ],
      "metadata": {
        "id": "Ku8uFpNcSPOZ",
        "colab": {
          "base_uri": "https://localhost:8080/"
        },
        "outputId": "d6123575-b175-4dd9-f75d-5ef4db57f2b5"
      },
      "execution_count": 7,
      "outputs": [
        {
          "output_type": "stream",
          "name": "stdout",
          "text": [
            "enter name of person 1: prakhar\n",
            " enter the age of person 1: 17\n",
            "enter name of person 2: pranav\n",
            " enter the age of person 2: 18\n",
            "35\n"
          ]
        }
      ]
    },
    {
      "cell_type": "code",
      "source": [
        "n1 = int(input(\"Please first number:\"))\n",
        "n2 = int(input(\"Please second number:\"))\n",
        "n3 = int(input(\"Please third number:\"))\n",
        "average = (n1+n2+n3)/3\n",
        "print(\"the average of the three numbers is\", average )"
      ],
      "metadata": {
        "id": "2fovkNtH9vl6",
        "colab": {
          "base_uri": "https://localhost:8080/"
        },
        "outputId": "9d1d7961-bd2d-4f7f-9a63-34e4c4ab7e89"
      },
      "execution_count": 12,
      "outputs": [
        {
          "output_type": "stream",
          "name": "stdout",
          "text": [
            "Please first number:10\n",
            "Please second number:20\n",
            "Please third number:15\n",
            "the average of the three numbers is 15.0\n"
          ]
        }
      ]
    },
    {
      "cell_type": "code",
      "source": [
        "l= int(input(\"enter the length of the rectangle: \"))\n",
        "b= int(input(\"enter the breath of the rectangle: \"))\n",
        "h= int(input(\"enter the height of the rectangle: \"))\n",
        "volume=l*b*h\n",
        "print(\"the volume of the rectangle is: \", volume)\n"
      ],
      "metadata": {
        "colab": {
          "base_uri": "https://localhost:8080/"
        },
        "id": "8Gqlgo_xeSzG",
        "outputId": "f8739ed8-4c18-4276-a24a-facc972c4419"
      },
      "execution_count": 14,
      "outputs": [
        {
          "output_type": "stream",
          "name": "stdout",
          "text": [
            "enter the length of the rectangle: 2\n",
            "enter the breath of the rectangle: 3\n",
            "enter the height of the rectangle: 4\n",
            "the volume of the rectangle is:  24\n"
          ]
        }
      ]
    },
    {
      "cell_type": "code",
      "source": [
        "#doubt\n",
        "\n",
        "num = int(input(\"Enter a number: \"))\n",
        "\n",
        "if num < 0:\n",
        "   print(\"Enter a positive number\")\n",
        "else:\n",
        "   sum = 0\n",
        "   while(num > 0):\n",
        "       sum += num\n",
        "       num -= 1\n",
        "   print(\"The sum is\",sum)"
      ],
      "metadata": {
        "colab": {
          "base_uri": "https://localhost:8080/"
        },
        "id": "E6LFB2N_jGF1",
        "outputId": "7a36a017-1f9c-4572-fee1-f32b01211b50"
      },
      "execution_count": 18,
      "outputs": [
        {
          "output_type": "stream",
          "name": "stdout",
          "text": [
            "Enter a number: 10\n",
            "The sum is 55\n"
          ]
        }
      ]
    },
    {
      "cell_type": "code",
      "source": [
        "#doubt\n",
        "\n",
        "def compute_hcf(x, y):\n",
        "\n",
        "    if x > y:\n",
        "        smaller = y\n",
        "    else:\n",
        "        smaller = x\n",
        "    for i in range(1, smaller+1):\n",
        "        if((x % i == 0) and (y % i == 0)):\n",
        "            hcf = i\n",
        "    return hcf\n",
        "num1 = int(input(\"enter n1: \"))\n",
        "num2 = int(input(\"enter n2: \"))\n",
        "print(\"The H.C.F. is\", compute_hcf(num1, num2))"
      ],
      "metadata": {
        "colab": {
          "base_uri": "https://localhost:8080/"
        },
        "id": "HnUQqK7YjF6o",
        "outputId": "3183e5e9-f2ac-4a20-8b85-8638511a12cb"
      },
      "execution_count": 21,
      "outputs": [
        {
          "output_type": "stream",
          "name": "stdout",
          "text": [
            "enter n1: 8\n",
            "enter n2: 12\n",
            "The H.C.F. is 4\n"
          ]
        }
      ]
    },
    {
      "cell_type": "code",
      "source": [
        "#doubt\n",
        "num = int(input(\"Enter a number: \"))\n",
        "factorial=1\n",
        "if num < 0:\n",
        "   print(\"Sorry, factorial does not exist for negative numbers\")\n",
        "elif num == 0:\n",
        "   print(\"The factorial of 0 is 1\")\n",
        "else:\n",
        "   for i in range(1,num + 1):\n",
        "       factorial = factorial*i\n",
        "   print(\"The factorial of\",num,\"is\",factorial)"
      ],
      "metadata": {
        "colab": {
          "base_uri": "https://localhost:8080/"
        },
        "id": "ceGKWlm_jFge",
        "outputId": "a47753dc-0600-4076-c5e6-1339c8bf57ce"
      },
      "execution_count": 23,
      "outputs": [
        {
          "output_type": "stream",
          "name": "stdout",
          "text": [
            "Enter a number: 6\n",
            "The factorial of 6 is 720\n"
          ]
        }
      ]
    },
    {
      "cell_type": "code",
      "source": [
        "string=\"*****\"\n",
        "x=0\n",
        "for i in string:\n",
        "    x = x + 1\n",
        "    print(string[0:x])"
      ],
      "metadata": {
        "colab": {
          "base_uri": "https://localhost:8080/"
        },
        "id": "V7tLHYbF8slY",
        "outputId": "2fd6c3bf-eec5-40bd-febb-03e198abd904"
      },
      "execution_count": 17,
      "outputs": [
        {
          "output_type": "stream",
          "name": "stdout",
          "text": [
            "*\n",
            "**\n",
            "***\n",
            "****\n",
            "*****\n"
          ]
        }
      ]
    },
    {
      "cell_type": "code",
      "source": [],
      "metadata": {
        "id": "2aIBUsv8jl7e"
      },
      "execution_count": null,
      "outputs": []
    }
  ]
}